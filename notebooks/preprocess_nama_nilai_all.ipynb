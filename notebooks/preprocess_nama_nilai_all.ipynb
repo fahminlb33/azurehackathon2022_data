{
 "cells": [
  {
   "cell_type": "code",
   "execution_count": 9,
   "metadata": {},
   "outputs": [],
   "source": [
    "import pandas as pd"
   ]
  },
  {
   "cell_type": "code",
   "execution_count": 7,
   "metadata": {},
   "outputs": [],
   "source": [
    "df_mipa = pd.read_csv('../processed/sn_mipa.csv')\n",
    "df_ips = pd.read_csv('../processed/sn_ips.csv')\n",
    "df_bahasa = pd.read_csv('../processed/sn_bahasa.csv')\n",
    "\n",
    "df_nilai_all = pd.concat([df_mipa, df_ips, df_bahasa])\n",
    "\n",
    "df_nilai_all = df_nilai_all.assign(nilai_id=list(df_nilai_all.index))\n",
    "df_nilai_all = df_nilai_all[[\"nilai_id\",\"siswa_id\",\"mapel\",\"rombel\",\"semester\",\"value\"]]\n",
    "df_nilai_all = df_nilai_all.rename(columns={\"value\": \"nilai\"})\n",
    "df_nilai_all.to_csv('../processed/sn_nilai_all.csv', index=False)"
   ]
  },
  {
   "cell_type": "code",
   "execution_count": 8,
   "metadata": {},
   "outputs": [],
   "source": [
    "df_nama_mipa = pd.read_excel(\"../dataset/snmptn_mipa.xlsx\")\n",
    "df_nama_ips = pd.read_excel(\"../dataset/snmptn_ips.xlsx\")\n",
    "df_nama_bahasa = pd.read_excel(\"../dataset/snmptn_bahasa.xlsx\")\n",
    "\n",
    "df_nama_all = pd.concat([\n",
    "    df_nama_mipa.iloc[:, :3],\n",
    "    df_nama_ips.iloc[:, :3],\n",
    "    df_nama_bahasa.iloc[:, :3]\n",
    "])\n",
    "df_nama_all = df_nama_all.rename(columns={\"no_urut\": \"siswa_id\"})\n",
    "df_nama_all.to_csv('../processed/sn_nama_all.csv', index=False)"
   ]
  },
  {
   "cell_type": "code",
   "execution_count": null,
   "metadata": {},
   "outputs": [],
   "source": []
  }
 ],
 "metadata": {
  "kernelspec": {
   "display_name": "Python 3.10.4 ('msapac')",
   "language": "python",
   "name": "python3"
  },
  "language_info": {
   "codemirror_mode": {
    "name": "ipython",
    "version": 3
   },
   "file_extension": ".py",
   "mimetype": "text/x-python",
   "name": "python",
   "nbconvert_exporter": "python",
   "pygments_lexer": "ipython3",
   "version": "3.10.4"
  },
  "orig_nbformat": 4,
  "vscode": {
   "interpreter": {
    "hash": "c8390aec40a29a89d8000baeeb2d156c10d1cb469cae257f3953944255947135"
   }
  }
 },
 "nbformat": 4,
 "nbformat_minor": 2
}
