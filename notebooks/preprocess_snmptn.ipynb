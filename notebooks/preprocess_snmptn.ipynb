{
 "cells": [
  {
   "cell_type": "code",
   "execution_count": 1,
   "metadata": {},
   "outputs": [],
   "source": [
    "import numpy as np\n",
    "import pandas as pd"
   ]
  },
  {
   "cell_type": "code",
   "execution_count": 2,
   "metadata": {},
   "outputs": [],
   "source": [
    "grades_group_dict = {\n",
    "    \"stem\": [\"MTK\", \"BIO\", \"FIS\", \"KIM\", \"MTK_P\", \"GEO\"],\n",
    "    \"language\": [\"IND\", \"ING\", \"SIND\", \"SING\", \"JER\", \"ANTR\", \"SUN\"],\n",
    "    \"business\": [\"MTK\", \"MTK_P\", \"EKO\", \"IND\", \"ING\"],\n",
    "    \"arts\": [\"SBK\", \"PKR\"],\n",
    "    \"social\": [\"SOS\", \"SEJ\", \"SI\"],\n",
    "    \"others\": [\"PKN\", \"PJK\"]\n",
    "}\n",
    "\n",
    "def group_category(row):\n",
    "    if row[\"mapel\"] in grades_group_dict[\"stem\"]:\n",
    "        return \"stem\"\n",
    "    elif row[\"mapel\"] in grades_group_dict[\"language\"]:\n",
    "        return \"language\"\n",
    "    elif row[\"mapel\"] in grades_group_dict[\"business\"]:\n",
    "        return \"business\"\n",
    "    elif row[\"mapel\"] in grades_group_dict[\"arts\"]:\n",
    "        return \"arts\"\n",
    "    elif row[\"mapel\"] in grades_group_dict[\"social\"]:\n",
    "        return \"social\"\n",
    "\n",
    "    return \"others\""
   ]
  },
  {
   "cell_type": "code",
   "execution_count": 3,
   "metadata": {},
   "outputs": [],
   "source": [
    "def unpivot_semester_df(df_sem, semester):\n",
    "    # unpivot data\n",
    "    df_sem = df_sem.melt(id_vars=[\"no_urut\"])\n",
    "\n",
    "    # truncate mapel name\n",
    "    df_sem[\"mapel\"] = df_sem[\"variable\"].apply(lambda x: x[5:])\n",
    "\n",
    "    # map new mapel name\n",
    "    mapel_map = {value: value for value in df_sem[\"mapel\"].unique()}\n",
    "    mapel_map[\"MTK.1\"] = \"MTK_P\"\n",
    "\n",
    "    # map lintas minat\n",
    "    if rombel == \"mipa\":\n",
    "        mapel_map[\"LM\"] = \"EKO\"\n",
    "    elif rombel == \"ips\":\n",
    "        mapel_map[\"LM\"] = \"KIM\"\n",
    "    else:\n",
    "        mapel_map[\"LM\"] = \"JAP\"\n",
    "\n",
    "    df_sem[\"mapel\"] = df_sem[\"mapel\"].map(mapel_map)\n",
    "\n",
    "    # add category\n",
    "    df_sem[\"kategori\"] = df_sem.apply(group_category, axis=1)\n",
    "\n",
    "    # drop variable column\n",
    "    df_sem = df_sem.drop(columns=[\"variable\"])\n",
    "\n",
    "    # set semester\n",
    "    df_sem = df_sem.assign(semester=semester)\n",
    "\n",
    "    return df_sem.reset_index()"
   ]
  },
  {
   "cell_type": "code",
   "execution_count": 13,
   "metadata": {},
   "outputs": [],
   "source": [
    "dataframes = []\n",
    "for rombel in [\"mipa\", \"ips\", \"bahasa\"]:\n",
    "    df = pd.read_excel(f\"../dataset/snmptn_{rombel}.xlsx\")\n",
    "    grades_semesters = list(df.columns.values)\n",
    "    for semesterColumn in [f\"sem{i}\" for i in range(1, 6)]:\n",
    "        semester = int(semesterColumn[-1])\n",
    "        startIndex = grades_semesters.index(f\"{semesterColumn}_PAI\")\n",
    "        endIndex = startIndex + 15\n",
    "\n",
    "        df_sem = pd.concat([df.iloc[:, 0], df.iloc[:, startIndex:endIndex]], axis=1)\n",
    "        dataframes.append(unpivot_semester_df(df_sem, semester))"
   ]
  },
  {
   "cell_type": "code",
   "execution_count": 15,
   "metadata": {},
   "outputs": [],
   "source": [
    "# concat all data\n",
    "df_all = pd.concat(dataframes).reset_index()\n",
    "\n",
    "# drop unnecessary data\n",
    "df_all = df_all.drop(columns=[\"level_0\", \"index\"])\n",
    "\n",
    "# assign rombongan belajar\n",
    "df_all = df_all.assign(rombel=rombel)\n",
    "\n",
    "# rename columns\n",
    "df_all = df_all.rename(columns={\"no_urut\": \"siswa_id\", \"value\": \"nilai\"})\n",
    "\n",
    "# save to file\n",
    "df_all.to_csv(f\"../processed/sn_nilai_all.csv\", index=False)"
   ]
  },
  {
   "cell_type": "markdown",
   "metadata": {},
   "source": [
    "## GET MASUK/TIDAK"
   ]
  },
  {
   "cell_type": "code",
   "execution_count": 18,
   "metadata": {},
   "outputs": [],
   "source": [
    "dataframes = []\n",
    "for rombel in [\"mipa\", \"ips\", \"bahasa\"]:\n",
    "    df = pd.read_excel(f\"../dataset/snmptn_{rombel}.xlsx\")\n",
    "    dataframes.append(df[[\"no_urut\", \"masuk\"]])"
   ]
  },
  {
   "cell_type": "code",
   "execution_count": 19,
   "metadata": {},
   "outputs": [],
   "source": [
    "# concat all data\n",
    "df_all = pd.concat(dataframes).reset_index()\n",
    "\n",
    "# save to file\n",
    "df_all.to_csv(f\"../processed/sn_kelulusan_all.csv\", index=False)"
   ]
  },
  {
   "cell_type": "code",
   "execution_count": null,
   "metadata": {},
   "outputs": [],
   "source": []
  }
 ],
 "metadata": {
  "kernelspec": {
   "display_name": "Python 3.10.4 ('msapac')",
   "language": "python",
   "name": "python3"
  },
  "language_info": {
   "codemirror_mode": {
    "name": "ipython",
    "version": 3
   },
   "file_extension": ".py",
   "mimetype": "text/x-python",
   "name": "python",
   "nbconvert_exporter": "python",
   "pygments_lexer": "ipython3",
   "version": "3.10.4"
  },
  "orig_nbformat": 4,
  "vscode": {
   "interpreter": {
    "hash": "c8390aec40a29a89d8000baeeb2d156c10d1cb469cae257f3953944255947135"
   }
  }
 },
 "nbformat": 4,
 "nbformat_minor": 2
}
