{
 "cells": [
  {
   "cell_type": "code",
   "execution_count": 1,
   "metadata": {},
   "outputs": [],
   "source": [
    "import numpy as np\n",
    "import pandas as pd"
   ]
  },
  {
   "cell_type": "code",
   "execution_count": 2,
   "metadata": {},
   "outputs": [],
   "source": [
    "sn_nilai_all = pd.read_csv(\"../processed/sn_nilai_all.csv\")\n",
    "sn_kelulusan_all = pd.read_csv(\"../processed/sn_kelulusan_all.csv\")"
   ]
  },
  {
   "cell_type": "code",
   "execution_count": 3,
   "metadata": {},
   "outputs": [],
   "source": [
    "df_pivot = sn_nilai_all.pivot_table(index=\"siswa_id\", columns=[\"mapel\"], values=\"nilai\").reset_index()\n",
    "df_combined = df_pivot.merge(sn_kelulusan_all, left_on=\"siswa_id\", right_on=\"no_urut\")\n",
    "df_clean = df_combined.drop(columns=[\"siswa_id\", \"index\", \"no_urut\"]).fillna(0)"
   ]
  },
  {
   "cell_type": "code",
   "execution_count": 8,
   "metadata": {},
   "outputs": [
    {
     "data": {
      "text/plain": [
       "array([0.0, 84.4, 82.2, 83.0, 0.0, 85.4, 90.2, 0.0, 0.0, 82.4, 88.2, 86.2,\n",
       "       88.6, 83.2, 89.6, 81.2, 85.0, 0.0, 81.4, 0.0, 0.0, 0.0, 83.8,\n",
       "       'LOLOS'], dtype=object)"
      ]
     },
     "execution_count": 8,
     "metadata": {},
     "output_type": "execute_result"
    }
   ],
   "source": [
    "df_clean.iloc[0, :].values"
   ]
  },
  {
   "cell_type": "code",
   "execution_count": 4,
   "metadata": {},
   "outputs": [
    {
     "data": {
      "text/plain": [
       "Index(['ANTR', 'BIO', 'EKO', 'FIS', 'GEO', 'IND', 'ING', 'JAP', 'JER', 'KIM',\n",
       "       'MTK', 'MTK_P', 'PAI', 'PJK', 'PKN', 'PKR', 'SBK', 'SEJ', 'SI', 'SIND',\n",
       "       'SING', 'SOS', 'SUN', 'masuk'],\n",
       "      dtype='object')"
      ]
     },
     "execution_count": 4,
     "metadata": {},
     "output_type": "execute_result"
    }
   ],
   "source": [
    "df_clean.columns"
   ]
  },
  {
   "cell_type": "code",
   "execution_count": null,
   "metadata": {},
   "outputs": [],
   "source": []
  }
 ],
 "metadata": {
  "kernelspec": {
   "display_name": "Python 3.10.4 ('msapac')",
   "language": "python",
   "name": "python3"
  },
  "language_info": {
   "codemirror_mode": {
    "name": "ipython",
    "version": 3
   },
   "file_extension": ".py",
   "mimetype": "text/x-python",
   "name": "python",
   "nbconvert_exporter": "python",
   "pygments_lexer": "ipython3",
   "version": "3.10.4"
  },
  "orig_nbformat": 4,
  "vscode": {
   "interpreter": {
    "hash": "c8390aec40a29a89d8000baeeb2d156c10d1cb469cae257f3953944255947135"
   }
  }
 },
 "nbformat": 4,
 "nbformat_minor": 2
}
